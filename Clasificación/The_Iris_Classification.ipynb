{
  "nbformat": 4,
  "nbformat_minor": 0,
  "metadata": {
    "colab": {
      "provenance": []
    },
    "kernelspec": {
      "name": "python3",
      "display_name": "Python 3"
    },
    "language_info": {
      "name": "python"
    }
  },
  "cells": [
    {
      "cell_type": "markdown",
      "source": [
        "# The Iris Classification\n",
        "\n",
        "A lo largo de esta notebook se utilizará el poder de la computación en la nube con Google Colab para un ejemplo clásico: el problema de clasificación de Iris, usando el popular conjunto de datos de [Iris flower dataset](https://en.wikipedia.org/wiki/Iris_flower_data_set).\n",
        "\n",
        "Para este problema de clasificación, se construirá una red neuronal artificial simple, totalmente conectada y de tipo feed-forward.\n",
        "\n",
        "La red, una vez entrenada, debería ser capaz de reconocer la especie flor que se le ha dado en el input."
      ],
      "metadata": {
        "id": "RnXc_xr95XQD"
      }
    },
    {
      "cell_type": "code",
      "execution_count": null,
      "metadata": {
        "colab": {
          "base_uri": "https://localhost:8080/"
        },
        "id": "w__SJA_C2Wo8",
        "outputId": "1979c98c-6ac3-4074-ff08-dd1ea59896de"
      },
      "outputs": [
        {
          "output_type": "stream",
          "name": "stdout",
          "text": [
            "2.18.0\n"
          ]
        }
      ],
      "source": [
        "#Instalamos la ultima versión de TensorFlow\n",
        "!pip install -q tensorflow\n",
        "\n",
        "#Verificamos la versión instalada\n",
        "import tensorflow as tf\n",
        "print(tf.__version__)"
      ]
    },
    {
      "cell_type": "markdown",
      "source": [
        "## El dataset Iris"
      ],
      "metadata": {
        "id": "UKe-Df1U-1WI"
      }
    },
    {
      "cell_type": "code",
      "source": [
        "from IPython.display import HTML\n",
        "url = 'https://en.wikipedia.org/wiki/Iris_flower_data_set'\n",
        "iframe = '<iframe src=' + url + ' width=\"80%\" height=300></iframe>'\n",
        "# HTML(iframe)"
      ],
      "metadata": {
        "id": "1imupgib-0rs"
      },
      "execution_count": null,
      "outputs": []
    },
    {
      "cell_type": "code",
      "source": [
        "# Importamos el dataset from scikit-learn y otros paquetes útiles:\n",
        "from sklearn.model_selection import train_test_split\n",
        "from sklearn.datasets import load_iris\n",
        "import matplotlib.pyplot as plt\n",
        "import numpy as np\n",
        "\n",
        "# Fijamos una semilla para poder reproducir los resultados:\n",
        "seed = 13\n",
        "np.random.seed(seed)"
      ],
      "metadata": {
        "id": "f6ovSiBC_htJ"
      },
      "execution_count": null,
      "outputs": []
    },
    {
      "cell_type": "code",
      "source": [
        "# Cargamos el dataset de Iris\n",
        "iris = load_iris()\n",
        "\n",
        "# Asignamos los vectores de datos, etiquetas y nombres\n",
        "x = iris['data']               # características (features)\n",
        "y = iris['target']             # etiquetas (targets)\n",
        "names = iris['target_names']   # nombres de las especies\n",
        "feature_names = iris['feature_names']  # nombres de las características"
      ],
      "metadata": {
        "id": "mE4Hc15OAR3H"
      },
      "execution_count": null,
      "outputs": []
    },
    {
      "cell_type": "code",
      "source": [
        "# # Podemos cargar algunos elementos para verificar el contenido del dataset\n",
        "elements_to_display = [0, 50, 100]  # un ejemplo de una flor de cada especie\n",
        "# for element in elements_to_display:\n",
        "#     print(f\"Elemento {element}:\")\n",
        "#     print(f\"  - Características: {x[element]}\")\n",
        "#     print(f\"  - Etiqueta: {y[element]}\")\n",
        "#     print(f\"  - Especie: {names[y[element]]}\")\n",
        "#     print()"
      ],
      "metadata": {
        "id": "UmIT-aj6D9ht"
      },
      "execution_count": null,
      "outputs": []
    },
    {
      "cell_type": "markdown",
      "source": [
        "A continuacion se modifican las etiquetas (y) del dataset haciendo una transformación de una etiqueta entera (como 0, 1 o 2) en un vector binario. Esta transformación se conoce con el nombre de **one-hot encoding**.\n",
        "Esto es necesartio ya que la salida de la red neuronal será un vector con tres probabilidades, por lo tanto es necesario que el objetivo esté representado también como vector para luego poder hacer comparaciones y calculos de error."
      ],
      "metadata": {
        "id": "XOM06rjOBuTR"
      }
    },
    {
      "cell_type": "code",
      "source": [
        "from tensorflow import keras\n",
        "\n",
        "# One hot encode:\n",
        "y = keras.utils.to_categorical(y)\n",
        "\n",
        "# Variables globales:\n",
        "n_features = len(feature_names)\n",
        "n_classes = names.shape[0]"
      ],
      "metadata": {
        "id": "kqkZVW4rDFJe"
      },
      "execution_count": null,
      "outputs": []
    },
    {
      "cell_type": "code",
      "source": [
        "# # Chequiemos los cambios:\n",
        "# for element in elements_to_display:\n",
        "#     print(f\"Element {element}th:\")\n",
        "#     print(f\"  - Features: {x[element]}\")\n",
        "#     print(f\"  - Target: {y[element]}\")\n",
        "#     print(f\"  - Species: {names[element % 3]}\")\n",
        "#     print()"
      ],
      "metadata": {
        "id": "MJNJVodFDmQi"
      },
      "execution_count": null,
      "outputs": []
    },
    {
      "cell_type": "markdown",
      "source": [
        "A continuación se divide el dataset en dos subconjuntos, cada uno un porcentaje del inicial. El primer subconjunto \"Entrenamiento\" servirá para entrenar la red neuronal y el segundo \"Test\" se utilizará para hacer pruebas una vez que la red este entrenada para ver cuanto ha aprendido. En este caso los porcentajes elegidos serán Entrenamiento (70%) y Prueba/test (30%)."
      ],
      "metadata": {
        "id": "TGIwGHOqEHzS"
      }
    },
    {
      "cell_type": "code",
      "source": [
        "# Split the data set into training and testing sets:\n",
        "x_train, x_test, y_train, y_test = train_test_split(x, y,\n",
        "                                                    test_size=0.3,\n",
        "                                                    random_state=seed)"
      ],
      "metadata": {
        "id": "pxbe1QbLDvnt"
      },
      "execution_count": null,
      "outputs": []
    },
    {
      "cell_type": "markdown",
      "source": [
        "## El Modelo"
      ],
      "metadata": {
        "id": "zJKw-HGBJcFj"
      }
    },
    {
      "cell_type": "code",
      "source": [
        "# Importemos mas cosas utiles de Keras\n",
        "from tensorflow.keras.layers import Dense\n",
        "from tensorflow.keras.models import Sequential"
      ],
      "metadata": {
        "id": "LqP9jnKMJji3"
      },
      "execution_count": null,
      "outputs": []
    },
    {
      "cell_type": "code",
      "source": [
        "def iris_model(input_dim, output_dim, init_nodes=4, name='model'):\n",
        "    \"\"\"FF-MLP model for Iris classification problem.\"\"\"\n",
        "\n",
        "    # Crear modelo secuencial\n",
        "    model = Sequential(name=name)\n",
        "\n",
        "    model.add(Dense(init_nodes, input_dim=input_dim, activation='relu'))\n",
        "    model.add(Dense(2 * init_nodes, activation='relu'))\n",
        "    model.add(Dense(3 * init_nodes, activation='relu'))\n",
        "    model.add(Dense(output_dim, activation='softmax'))\n",
        "\n",
        "    # Compilar modelo con función de pérdida adecuada para clasificación multiclase\n",
        "    model.compile(loss='categorical_crossentropy',\n",
        "                  optimizer='adam',\n",
        "                  metrics=['accuracy'])\n",
        "\n",
        "    return model"
      ],
      "metadata": {
        "id": "7E8ZSJjhSats"
      },
      "execution_count": null,
      "outputs": []
    },
    {
      "cell_type": "code",
      "source": [
        "# Creación del modelo:\n",
        "model = iris_model(input_dim=n_features, output_dim=n_classes)\n",
        "model.summary()"
      ],
      "metadata": {
        "colab": {
          "base_uri": "https://localhost:8080/",
          "height": 315
        },
        "id": "LhpawkDoLV03",
        "outputId": "2887310f-ee60-4748-e6b9-45643277e60d"
      },
      "execution_count": null,
      "outputs": [
        {
          "output_type": "stream",
          "name": "stderr",
          "text": [
            "/usr/local/lib/python3.11/dist-packages/keras/src/layers/core/dense.py:87: UserWarning: Do not pass an `input_shape`/`input_dim` argument to a layer. When using Sequential models, prefer using an `Input(shape)` object as the first layer in the model instead.\n",
            "  super().__init__(activity_regularizer=activity_regularizer, **kwargs)\n"
          ]
        },
        {
          "output_type": "display_data",
          "data": {
            "text/plain": [
              "\u001b[1mModel: \"model\"\u001b[0m\n"
            ],
            "text/html": [
              "<pre style=\"white-space:pre;overflow-x:auto;line-height:normal;font-family:Menlo,'DejaVu Sans Mono',consolas,'Courier New',monospace\"><span style=\"font-weight: bold\">Model: \"model\"</span>\n",
              "</pre>\n"
            ]
          },
          "metadata": {}
        },
        {
          "output_type": "display_data",
          "data": {
            "text/plain": [
              "┏━━━━━━━━━━━━━━━━━━━━━━━━━━━━━━━━━┳━━━━━━━━━━━━━━━━━━━━━━━━┳━━━━━━━━━━━━━━━┓\n",
              "┃\u001b[1m \u001b[0m\u001b[1mLayer (type)                   \u001b[0m\u001b[1m \u001b[0m┃\u001b[1m \u001b[0m\u001b[1mOutput Shape          \u001b[0m\u001b[1m \u001b[0m┃\u001b[1m \u001b[0m\u001b[1m      Param #\u001b[0m\u001b[1m \u001b[0m┃\n",
              "┡━━━━━━━━━━━━━━━━━━━━━━━━━━━━━━━━━╇━━━━━━━━━━━━━━━━━━━━━━━━╇━━━━━━━━━━━━━━━┩\n",
              "│ dense (\u001b[38;5;33mDense\u001b[0m)                   │ (\u001b[38;5;45mNone\u001b[0m, \u001b[38;5;34m4\u001b[0m)              │            \u001b[38;5;34m20\u001b[0m │\n",
              "├─────────────────────────────────┼────────────────────────┼───────────────┤\n",
              "│ dense_1 (\u001b[38;5;33mDense\u001b[0m)                 │ (\u001b[38;5;45mNone\u001b[0m, \u001b[38;5;34m8\u001b[0m)              │            \u001b[38;5;34m40\u001b[0m │\n",
              "├─────────────────────────────────┼────────────────────────┼───────────────┤\n",
              "│ dense_2 (\u001b[38;5;33mDense\u001b[0m)                 │ (\u001b[38;5;45mNone\u001b[0m, \u001b[38;5;34m12\u001b[0m)             │           \u001b[38;5;34m108\u001b[0m │\n",
              "├─────────────────────────────────┼────────────────────────┼───────────────┤\n",
              "│ dense_3 (\u001b[38;5;33mDense\u001b[0m)                 │ (\u001b[38;5;45mNone\u001b[0m, \u001b[38;5;34m3\u001b[0m)              │            \u001b[38;5;34m39\u001b[0m │\n",
              "└─────────────────────────────────┴────────────────────────┴───────────────┘\n"
            ],
            "text/html": [
              "<pre style=\"white-space:pre;overflow-x:auto;line-height:normal;font-family:Menlo,'DejaVu Sans Mono',consolas,'Courier New',monospace\">┏━━━━━━━━━━━━━━━━━━━━━━━━━━━━━━━━━┳━━━━━━━━━━━━━━━━━━━━━━━━┳━━━━━━━━━━━━━━━┓\n",
              "┃<span style=\"font-weight: bold\"> Layer (type)                    </span>┃<span style=\"font-weight: bold\"> Output Shape           </span>┃<span style=\"font-weight: bold\">       Param # </span>┃\n",
              "┡━━━━━━━━━━━━━━━━━━━━━━━━━━━━━━━━━╇━━━━━━━━━━━━━━━━━━━━━━━━╇━━━━━━━━━━━━━━━┩\n",
              "│ dense (<span style=\"color: #0087ff; text-decoration-color: #0087ff\">Dense</span>)                   │ (<span style=\"color: #00d7ff; text-decoration-color: #00d7ff\">None</span>, <span style=\"color: #00af00; text-decoration-color: #00af00\">4</span>)              │            <span style=\"color: #00af00; text-decoration-color: #00af00\">20</span> │\n",
              "├─────────────────────────────────┼────────────────────────┼───────────────┤\n",
              "│ dense_1 (<span style=\"color: #0087ff; text-decoration-color: #0087ff\">Dense</span>)                 │ (<span style=\"color: #00d7ff; text-decoration-color: #00d7ff\">None</span>, <span style=\"color: #00af00; text-decoration-color: #00af00\">8</span>)              │            <span style=\"color: #00af00; text-decoration-color: #00af00\">40</span> │\n",
              "├─────────────────────────────────┼────────────────────────┼───────────────┤\n",
              "│ dense_2 (<span style=\"color: #0087ff; text-decoration-color: #0087ff\">Dense</span>)                 │ (<span style=\"color: #00d7ff; text-decoration-color: #00d7ff\">None</span>, <span style=\"color: #00af00; text-decoration-color: #00af00\">12</span>)             │           <span style=\"color: #00af00; text-decoration-color: #00af00\">108</span> │\n",
              "├─────────────────────────────────┼────────────────────────┼───────────────┤\n",
              "│ dense_3 (<span style=\"color: #0087ff; text-decoration-color: #0087ff\">Dense</span>)                 │ (<span style=\"color: #00d7ff; text-decoration-color: #00d7ff\">None</span>, <span style=\"color: #00af00; text-decoration-color: #00af00\">3</span>)              │            <span style=\"color: #00af00; text-decoration-color: #00af00\">39</span> │\n",
              "└─────────────────────────────────┴────────────────────────┴───────────────┘\n",
              "</pre>\n"
            ]
          },
          "metadata": {}
        },
        {
          "output_type": "display_data",
          "data": {
            "text/plain": [
              "\u001b[1m Total params: \u001b[0m\u001b[38;5;34m207\u001b[0m (828.00 B)\n"
            ],
            "text/html": [
              "<pre style=\"white-space:pre;overflow-x:auto;line-height:normal;font-family:Menlo,'DejaVu Sans Mono',consolas,'Courier New',monospace\"><span style=\"font-weight: bold\"> Total params: </span><span style=\"color: #00af00; text-decoration-color: #00af00\">207</span> (828.00 B)\n",
              "</pre>\n"
            ]
          },
          "metadata": {}
        },
        {
          "output_type": "display_data",
          "data": {
            "text/plain": [
              "\u001b[1m Trainable params: \u001b[0m\u001b[38;5;34m207\u001b[0m (828.00 B)\n"
            ],
            "text/html": [
              "<pre style=\"white-space:pre;overflow-x:auto;line-height:normal;font-family:Menlo,'DejaVu Sans Mono',consolas,'Courier New',monospace\"><span style=\"font-weight: bold\"> Trainable params: </span><span style=\"color: #00af00; text-decoration-color: #00af00\">207</span> (828.00 B)\n",
              "</pre>\n"
            ]
          },
          "metadata": {}
        },
        {
          "output_type": "display_data",
          "data": {
            "text/plain": [
              "\u001b[1m Non-trainable params: \u001b[0m\u001b[38;5;34m0\u001b[0m (0.00 B)\n"
            ],
            "text/html": [
              "<pre style=\"white-space:pre;overflow-x:auto;line-height:normal;font-family:Menlo,'DejaVu Sans Mono',consolas,'Courier New',monospace\"><span style=\"font-weight: bold\"> Non-trainable params: </span><span style=\"color: #00af00; text-decoration-color: #00af00\">0</span> (0.00 B)\n",
              "</pre>\n"
            ]
          },
          "metadata": {}
        }
      ]
    },
    {
      "cell_type": "markdown",
      "source": [
        "## Entrenando el modelo\n",
        "\n",
        "Para entrenar el modelo se debe elegir previamente el valor de dos **hiperparametros**\n",
        "\n",
        "\n",
        "\n",
        "*   Epoch: cantidad de veces que el modelo ve todo el conjunto de entrenamiento.\n",
        "*   Batch: cantidad de ejemplos que se usan por vez para actualizar los pesos.\n",
        "\n",
        "En un dataset chico, como es el dataset Iris se recomiendo usar valores pequeños de estos parametros."
      ],
      "metadata": {
        "id": "bXUlU5pjLfT5"
      }
    },
    {
      "cell_type": "code",
      "source": [
        "# Elegimos los hiperparametros\n",
        "epochs = 100\n",
        "batch = 8\n",
        "\n",
        "# Entrenamos el modelo y guardamos su entrenamiento en la variable history\n",
        "history = model.fit(x_train, y_train,\n",
        "                    validation_data=(x_test, y_test),\n",
        "                    verbose=False,   #para que no me muestre mientras va entrenando\n",
        "                    epochs=epochs,\n",
        "                    batch_size=batch)"
      ],
      "metadata": {
        "id": "W8UFuTVPLhil"
      },
      "execution_count": null,
      "outputs": []
    },
    {
      "cell_type": "markdown",
      "source": [
        "## Evaluando el modelo"
      ],
      "metadata": {
        "id": "MQ5rJ30ZN92W"
      }
    },
    {
      "cell_type": "code",
      "source": [
        "# Evaluate devuelve un lista de dos valores: loss y accuracy\n",
        "scores = model.evaluate(x_test, y_test, verbose=False)\n",
        "print(f'Test accuracy: {scores[1]}')"
      ],
      "metadata": {
        "colab": {
          "base_uri": "https://localhost:8080/"
        },
        "id": "FPyOFSFMOCt8",
        "outputId": "bd0a2d59-63a7-4d3e-e6d3-625d075f79c8"
      },
      "execution_count": null,
      "outputs": [
        {
          "output_type": "stream",
          "name": "stdout",
          "text": [
            "Test accuracy: 0.9111111164093018\n"
          ]
        }
      ]
    },
    {
      "cell_type": "markdown",
      "source": [
        "### Veamos algunos graficos del entrenamiento"
      ],
      "metadata": {
        "id": "NTr6reZHO2sn"
      }
    },
    {
      "cell_type": "code",
      "source": [
        "fig, (ax1, ax2) = plt.subplots(2, figsize=(8, 6))\n",
        "\n",
        "# Accuracy de entrenamiento y validación\n",
        "ax1.plot(history.history['accuracy'], label='Train Accuracy')\n",
        "ax1.plot(history.history['val_accuracy'], label='Validation Accuracy')\n",
        "\n",
        "# Pérdida (loss) de entrenamiento y validación\n",
        "ax2.plot(history.history['loss'], label='Train Loss')\n",
        "ax2.plot(history.history['val_loss'], label='Validation Loss')\n",
        "\n",
        "# Configuración de etiquetas y leyenda\n",
        "ax1.set_ylabel('Accuracy')\n",
        "ax2.set_ylabel('Loss')\n",
        "ax2.set_xlabel('Epochs')\n",
        "\n",
        "# Agregar leyendas\n",
        "ax1.legend()\n",
        "ax2.legend()\n",
        "\n",
        "# Ajustar layout y mostrar gráfico\n",
        "plt.tight_layout()\n",
        "plt.show()"
      ],
      "metadata": {
        "colab": {
          "base_uri": "https://localhost:8080/",
          "height": 606
        },
        "id": "pYOx1w0pUmzf",
        "outputId": "6d43ab92-2ee7-4a88-dd79-00322c7260e9"
      },
      "execution_count": null,
      "outputs": [
        {
          "output_type": "display_data",
          "data": {
            "text/plain": [
              "<Figure size 800x600 with 2 Axes>"
            ],
            "image/png": "[encoded data removed]"
          },
          "metadata": {}
        }
      ]
    },
    {
      "cell_type": "markdown",
      "source": [
        "## Predicciones con datos nuevos"
      ],
      "metadata": {
        "id": "1wMdL3t7Wo0K"
      }
    },
    {
      "cell_type": "code",
      "source": [
        "# Remembering some elements:\n",
        "for element in elements_to_display:\n",
        "    prediction_vector = model.predict(np.array([x[element]]))\n",
        "    print(f\"Element {element}th:\")\n",
        "    print(f\"  - Features: {x[element]}\")\n",
        "    print(f\"  - Target: {y[element]}\")\n",
        "    print(f\"  - Scpecies: {names[np.argmax(y[element])]}\")\n",
        "    print(f\"  - Predicted species: {names[np.argmax(prediction_vector)]}\")\n",
        "    print()"
      ],
      "metadata": {
        "colab": {
          "base_uri": "https://localhost:8080/"
        },
        "id": "WtiwPn-OWHSV",
        "outputId": "754eb8b6-f206-4233-8704-bc33ea21e30a"
      },
      "execution_count": null,
      "outputs": [
        {
          "output_type": "stream",
          "name": "stdout",
          "text": [
            "\u001b[1m1/1\u001b[0m \u001b[32m━━━━━━━━━━━━━━━━━━━━\u001b[0m\u001b[37m\u001b[0m \u001b[1m0s\u001b[0m 82ms/step\n",
            "Element 0th:\n",
            "  - Features: [5.1 3.5 1.4 0.2]\n",
            "  - Target: [1. 0. 0.]\n",
            "  - Scpecies: setosa\n",
            "  - Predicted species: setosa\n",
            "\n",
            "\u001b[1m1/1\u001b[0m \u001b[32m━━━━━━━━━━━━━━━━━━━━\u001b[0m\u001b[37m\u001b[0m \u001b[1m0s\u001b[0m 36ms/step\n",
            "Element 50th:\n",
            "  - Features: [7.  3.2 4.7 1.4]\n",
            "  - Target: [0. 1. 0.]\n",
            "  - Scpecies: versicolor\n",
            "  - Predicted species: versicolor\n",
            "\n",
            "\u001b[1m1/1\u001b[0m \u001b[32m━━━━━━━━━━━━━━━━━━━━\u001b[0m\u001b[37m\u001b[0m \u001b[1m0s\u001b[0m 41ms/step\n",
            "Element 100th:\n",
            "  - Features: [6.3 3.3 6.  2.5]\n",
            "  - Target: [0. 0. 1.]\n",
            "  - Scpecies: virginica\n",
            "  - Predicted species: virginica\n",
            "\n"
          ]
        }
      ]
    },
    {
      "cell_type": "markdown",
      "source": [
        "## Evaluación del entrenamiento del modelo\n",
        "\n",
        "Se entrenó un modelo de red neuronal para la clasificación del dataset Iris. A continuación se detalla el comportamiento del entrenamiento y validación:\n",
        "\n",
        "✅ Precisión: la precisión en entrenamiento se estabiliza cerca del 100%, mientras que en validación se mantiene en torno al 90%, lo cual indica un buen nivel de generalización.\n",
        "\n",
        "📉 Pérdida: tanto la pérdida de entrenamiento como la de validación disminuyen de forma progresiva y constante a lo largo de las épocas.\n",
        "\n",
        "🧠 No hay señales claras de sobreajuste (overfitting): si bien la precisión de entrenamiento es un poco más alta, las curvas de pérdida se mantienen alineadas y la de validación no se estanca ni empeora.\n",
        "\n",
        "🧪 El modelo alcanzó una precisión final en el conjunto de prueba del 91.1%, lo cual es un resultado muy satisfactorio considerando la simplicidad del modelo y la cantidad de datos."
      ],
      "metadata": {
        "id": "O3qkFahzWyMG"
      }
    }
  ]
}